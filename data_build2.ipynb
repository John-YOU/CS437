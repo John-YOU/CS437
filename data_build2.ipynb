{
 "cells": [
  {
   "cell_type": "code",
   "execution_count": 2,
   "metadata": {},
   "outputs": [],
   "source": [
    "import pandas as pd"
   ]
  },
  {
   "cell_type": "code",
   "execution_count": 183,
   "metadata": {},
   "outputs": [
    {
     "data": {
      "text/plain": [
       "(25704, 9)"
      ]
     },
     "execution_count": 183,
     "metadata": {},
     "output_type": "execute_result"
    }
   ],
   "source": [
    "movie=pd.read_csv('/Users/lingyitan/Desktop/database data/movie_info_19.csv', sep=',')\n",
    "movie.shape"
   ]
  },
  {
   "cell_type": "code",
   "execution_count": 11,
   "metadata": {},
   "outputs": [
    {
     "data": {
      "text/plain": [
       "(217254, 7)"
      ]
     },
     "execution_count": 11,
     "metadata": {},
     "output_type": "execute_result"
    }
   ],
   "source": [
    "crew=pd.read_csv('/Users/lingyitan/Desktop/database data/movie.principals.tsv', sep='\\t')\n",
    "crew_100=crew.loc[crew['tconst'].isin(movie['tconst']) ]\n",
    "crew_100.shape"
   ]
  },
  {
   "cell_type": "code",
   "execution_count": 22,
   "metadata": {},
   "outputs": [
    {
     "name": "stderr",
     "output_type": "stream",
     "text": [
      "/Users/lingyitan/anaconda3/lib/python3.6/site-packages/IPython/core/interactiveshell.py:2785: DtypeWarning: Columns (8) have mixed types. Specify dtype option on import or set low_memory=False.\n",
      "  interactivity=interactivity, compiler=compiler, result=result)\n"
     ]
    },
    {
     "data": {
      "text/plain": [
       "(52783, 9)"
      ]
     },
     "execution_count": 22,
     "metadata": {},
     "output_type": "execute_result"
    }
   ],
   "source": [
    "title=pd.read_csv('/Users/lingyitan/Desktop/database data/movie.akas.tsv', sep='\\t')\n",
    "title_100=title.loc[title['titleId'].isin(movie['tconst']) ]\n",
    "title_100.shape"
   ]
  },
  {
   "cell_type": "code",
   "execution_count": 24,
   "metadata": {},
   "outputs": [
    {
     "data": {
      "text/plain": [
       "array(['editor', 'actor', 'actress', 'director', 'writer', 'producer',\n",
       "       'composer', 'cinematographer', 'self', 'production_designer',\n",
       "       'archive_footage', 'archive_sound'], dtype=object)"
      ]
     },
     "execution_count": 24,
     "metadata": {},
     "output_type": "execute_result"
    }
   ],
   "source": [
    "crew_100['category'].unique()"
   ]
  },
  {
   "cell_type": "code",
   "execution_count": 29,
   "metadata": {},
   "outputs": [
    {
     "data": {
      "text/plain": [
       "(97984, 7, 86489, 7)"
      ]
     },
     "execution_count": 29,
     "metadata": {},
     "output_type": "execute_result"
    }
   ],
   "source": [
    "Cast=crew_100.loc[crew['category'].isin(['self','actor','actress'])]\n",
    "Crew=crew_100.loc[crew['category'].isin(['director','writer','producer','composer'])]"
   ]
  },
  {
   "cell_type": "code",
   "execution_count": 94,
   "metadata": {},
   "outputs": [],
   "source": [
    "#Generate cast relationship\n",
    "Cast_re=Cast[['tconst','nconst','characters','category']]\n",
    "Cast_re.columns=['Movie_ID','Person_ID','characters','category']\n",
    "Cast_re.to_csv('/Users/lingyitan/Desktop/database data/Cast_re.tsv',sep='\\t')"
   ]
  },
  {
   "cell_type": "code",
   "execution_count": 223,
   "metadata": {},
   "outputs": [
    {
     "data": {
      "text/plain": [
       "(86489, 3)"
      ]
     },
     "execution_count": 223,
     "metadata": {},
     "output_type": "execute_result"
    }
   ],
   "source": [
    "Crew_re.shape"
   ]
  },
  {
   "cell_type": "code",
   "execution_count": 36,
   "metadata": {},
   "outputs": [],
   "source": [
    "people=pd.read_csv('/Users/lingyitan/Desktop/database data/name.basics.tsv',sep='\\t')"
   ]
  },
  {
   "cell_type": "code",
   "execution_count": 71,
   "metadata": {
    "scrolled": true
   },
   "outputs": [
    {
     "data": {
      "text/html": [
       "<div>\n",
       "<style scoped>\n",
       "    .dataframe tbody tr th:only-of-type {\n",
       "        vertical-align: middle;\n",
       "    }\n",
       "\n",
       "    .dataframe tbody tr th {\n",
       "        vertical-align: top;\n",
       "    }\n",
       "\n",
       "    .dataframe thead th {\n",
       "        text-align: right;\n",
       "    }\n",
       "</style>\n",
       "<table border=\"1\" class=\"dataframe\">\n",
       "  <thead>\n",
       "    <tr style=\"text-align: right;\">\n",
       "      <th></th>\n",
       "      <th>Person_ID</th>\n",
       "      <th>Name</th>\n",
       "      <th>Birth Year</th>\n",
       "      <th>Death Year</th>\n",
       "      <th>Known for titles</th>\n",
       "    </tr>\n",
       "  </thead>\n",
       "  <tbody>\n",
       "    <tr>\n",
       "      <th>1</th>\n",
       "      <td>nm0000002</td>\n",
       "      <td>Lauren Bacall</td>\n",
       "      <td>1924</td>\n",
       "      <td>2014</td>\n",
       "      <td>tt0038355,tt0071877,tt0117057,tt0037382</td>\n",
       "    </tr>\n",
       "    <tr>\n",
       "      <th>4</th>\n",
       "      <td>nm0000005</td>\n",
       "      <td>Ingmar Bergman</td>\n",
       "      <td>1918</td>\n",
       "      <td>2007</td>\n",
       "      <td>tt0050976,tt0083922,tt0060827,tt0050986</td>\n",
       "    </tr>\n",
       "    <tr>\n",
       "      <th>7</th>\n",
       "      <td>nm0000008</td>\n",
       "      <td>Marlon Brando</td>\n",
       "      <td>1924</td>\n",
       "      <td>2004</td>\n",
       "      <td>tt0068646,tt0047296,tt0070849,tt0078788</td>\n",
       "    </tr>\n",
       "  </tbody>\n",
       "</table>\n",
       "</div>"
      ],
      "text/plain": [
       "   Person_ID            Name Birth Year Death Year  \\\n",
       "1  nm0000002   Lauren Bacall       1924       2014   \n",
       "4  nm0000005  Ingmar Bergman       1918       2007   \n",
       "7  nm0000008   Marlon Brando       1924       2004   \n",
       "\n",
       "                          Known for titles  \n",
       "1  tt0038355,tt0071877,tt0117057,tt0037382  \n",
       "4  tt0050976,tt0083922,tt0060827,tt0050986  \n",
       "7  tt0068646,tt0047296,tt0070849,tt0078788  "
      ]
     },
     "execution_count": 71,
     "metadata": {},
     "output_type": "execute_result"
    }
   ],
   "source": [
    "#Generate cast info\n",
    "Cast_people=people.loc[people['nconst'].isin(Cast['nconst'])]\n",
    "Cast_people.columns=['Person_ID','Name','Birth Year','Death Year','Primary Profession','Known for titles']\n",
    "Cast_people=Cast_people[['Person_ID','Name','Birth Year','Death Year','Known for titles']]\n",
    "Cast_people.to_csv('/Users/lingyitan/Desktop/database data/Cast_people.tsv',sep='\\t')\n",
    "Cast_people.head(3)"
   ]
  },
  {
   "cell_type": "code",
   "execution_count": 75,
   "metadata": {},
   "outputs": [],
   "source": [
    "#Generate crew relationship and crew\n",
    "Crew_re=Crew[['tconst','nconst','category']]\n",
    "Crew_re.columns=['Movie_ID','Person_ID','Category']\n",
    "Crew_people=people.loc[people['nconst'].isin(Crew['nconst'])]\n",
    "Crew_people.columns=['Person_ID','Name','Birth Year','Death Year','Primary Profession','Known for titles']\n",
    "Crew_re.to_csv('/Users/lingyitan/Desktop/database data/Crew_re.tsv',sep='\\t')\n",
    "Crew_people.to_csv('/Users/lingyitan/Desktop/database data/Crew_people.tsv',sep='\\t')"
   ]
  },
  {
   "cell_type": "code",
   "execution_count": 172,
   "metadata": {},
   "outputs": [],
   "source": [
    "#Generate title\n",
    "title=title_100[['titleId','ordering','title','region','language','isOriginalTitle']]\n",
    "title.columns=[['Movie_ID','Version_order','Title','Region','Language','isOriginalTitle']]\n",
    "title.to_csv('/Users/lingyitan/Desktop/database data/title.tsv',sep='\\t')"
   ]
  },
  {
   "cell_type": "code",
   "execution_count": 190,
   "metadata": {},
   "outputs": [],
   "source": [
    "#Generate Movie\n",
    "movie_100=movie[['tconst','primaryTitle','isAdult','startYear', 'runtimeMinutes']]\n",
    "movie_100.columns=[['Movie_ID','Primary Title','isAdult','Year','Runtime']]\n",
    "movie_100.to_csv('/Users/lingyitan/Desktop/database data/movie.tsv',sep='\\t')"
   ]
  },
  {
   "cell_type": "code",
   "execution_count": 193,
   "metadata": {},
   "outputs": [],
   "source": [
    "#Rating\n",
    "Rating=pd.read_csv('/Users/lingyitan/Desktop/database data/movie.ratings.tsv', sep='\\t')\n",
    "Rating_100=Rating.loc[Rating['tconst'].isin(movie['tconst']) ]\n",
    "Rating_100=Rating_100[['tconst','averageRating','numVotes']]\n",
    "Rating_100.columns=[['Movie_ID','Average Rating','Number of Votes']]"
   ]
  },
  {
   "cell_type": "code",
   "execution_count": 215,
   "metadata": {},
   "outputs": [
    {
     "data": {
      "text/html": [
       "<div>\n",
       "<style scoped>\n",
       "    .dataframe tbody tr th:only-of-type {\n",
       "        vertical-align: middle;\n",
       "    }\n",
       "\n",
       "    .dataframe tbody tr th {\n",
       "        vertical-align: top;\n",
       "    }\n",
       "\n",
       "    .dataframe thead tr th {\n",
       "        text-align: left;\n",
       "    }\n",
       "</style>\n",
       "<table border=\"1\" class=\"dataframe\">\n",
       "  <thead>\n",
       "    <tr>\n",
       "      <th></th>\n",
       "      <th>Movie_ID</th>\n",
       "      <th>Average Rating</th>\n",
       "      <th>Number of Votes</th>\n",
       "      <th>Level</th>\n",
       "    </tr>\n",
       "  </thead>\n",
       "  <tbody>\n",
       "    <tr>\n",
       "      <th>1759</th>\n",
       "      <td>tt0015724</td>\n",
       "      <td>6.2</td>\n",
       "      <td>19</td>\n",
       "      <td>0</td>\n",
       "    </tr>\n",
       "    <tr>\n",
       "      <th>41795</th>\n",
       "      <td>tt0081145</td>\n",
       "      <td>5.3</td>\n",
       "      <td>204</td>\n",
       "      <td>0</td>\n",
       "    </tr>\n",
       "    <tr>\n",
       "      <th>43523</th>\n",
       "      <td>tt0084015</td>\n",
       "      <td>7.3</td>\n",
       "      <td>39</td>\n",
       "      <td>0</td>\n",
       "    </tr>\n",
       "    <tr>\n",
       "      <th>43850</th>\n",
       "      <td>tt0084551</td>\n",
       "      <td>5.3</td>\n",
       "      <td>9</td>\n",
       "      <td>0</td>\n",
       "    </tr>\n",
       "    <tr>\n",
       "      <th>44042</th>\n",
       "      <td>tt0084870</td>\n",
       "      <td>7.5</td>\n",
       "      <td>179</td>\n",
       "      <td>0</td>\n",
       "    </tr>\n",
       "  </tbody>\n",
       "</table>\n",
       "</div>"
      ],
      "text/plain": [
       "        Movie_ID Average Rating Number of Votes Level\n",
       "1759   tt0015724            6.2              19     0\n",
       "41795  tt0081145            5.3             204     0\n",
       "43523  tt0084015            7.3              39     0\n",
       "43850  tt0084551            5.3               9     0\n",
       "44042  tt0084870            7.5             179     0"
      ]
     },
     "execution_count": 215,
     "metadata": {},
     "output_type": "execute_result"
    }
   ],
   "source": [
    "Rating_100.head()"
   ]
  },
  {
   "cell_type": "code",
   "execution_count": 221,
   "metadata": {},
   "outputs": [],
   "source": [
    "Rating_100.to_csv('/Users/lingyitan/Desktop/database data/rating.csv',sep=',')"
   ]
  },
  {
   "cell_type": "code",
   "execution_count": null,
   "metadata": {},
   "outputs": [],
   "source": []
  }
 ],
 "metadata": {
  "kernelspec": {
   "display_name": "Python 3",
   "language": "python",
   "name": "python3"
  },
  "language_info": {
   "codemirror_mode": {
    "name": "ipython",
    "version": 3
   },
   "file_extension": ".py",
   "mimetype": "text/x-python",
   "name": "python",
   "nbconvert_exporter": "python",
   "pygments_lexer": "ipython3",
   "version": "3.6.5"
  }
 },
 "nbformat": 4,
 "nbformat_minor": 2
}
